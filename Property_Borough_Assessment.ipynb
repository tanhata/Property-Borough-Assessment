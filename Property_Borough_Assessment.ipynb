{
  "nbformat": 4,
  "nbformat_minor": 0,
  "metadata": {
    "colab": {
      "name": "Best Practices_PANDAS.ipynb",
      "provenance": [],
      "collapsed_sections": [],
      "include_colab_link": true
    },
    "kernelspec": {
      "name": "python3",
      "display_name": "Python 3"
    },
    "language_info": {
      "name": "python"
    }
  },
  "cells": [
    {
      "cell_type": "markdown",
      "metadata": {
        "id": "view-in-github",
        "colab_type": "text"
      },
      "source": [
        "<a href=\"https://colab.research.google.com/github/tanhata/Property_Borough_Assessment/blob/main/Property_Borough_Assessment.ipynb\" target=\"_parent\"><img src=\"https://colab.research.google.com/assets/colab-badge.svg\" alt=\"Open In Colab\"/></a>"
      ]
    },
    {
      "cell_type": "code",
      "metadata": {
        "colab": {
          "base_uri": "https://localhost:8080/"
        },
        "id": "o_Es3KPOSMOk",
        "outputId": "f2aab5e7-e117-4788-bbc9-78b54dab5e7e"
      },
      "source": [
        "!pip install geopandas\n",
        "import geopandas as gpd\n",
        "import pandas as pd\n",
        "import matplotlib.pyplot as plt \n",
        "import csv\n",
        "!pip install fsspec"
      ],
      "execution_count": null,
      "outputs": [
        {
          "output_type": "stream",
          "text": [
            "Requirement already satisfied: geopandas in /usr/local/lib/python3.7/dist-packages (0.9.0)\n",
            "Requirement already satisfied: shapely>=1.6 in /usr/local/lib/python3.7/dist-packages (from geopandas) (1.7.1)\n",
            "Requirement already satisfied: pyproj>=2.2.0 in /usr/local/lib/python3.7/dist-packages (from geopandas) (3.0.1)\n",
            "Requirement already satisfied: pandas>=0.24.0 in /usr/local/lib/python3.7/dist-packages (from geopandas) (1.1.5)\n",
            "Requirement already satisfied: fiona>=1.8 in /usr/local/lib/python3.7/dist-packages (from geopandas) (1.8.18)\n",
            "Requirement already satisfied: certifi in /usr/local/lib/python3.7/dist-packages (from pyproj>=2.2.0->geopandas) (2020.12.5)\n",
            "Requirement already satisfied: python-dateutil>=2.7.3 in /usr/local/lib/python3.7/dist-packages (from pandas>=0.24.0->geopandas) (2.8.1)\n",
            "Requirement already satisfied: numpy>=1.15.4 in /usr/local/lib/python3.7/dist-packages (from pandas>=0.24.0->geopandas) (1.19.5)\n",
            "Requirement already satisfied: pytz>=2017.2 in /usr/local/lib/python3.7/dist-packages (from pandas>=0.24.0->geopandas) (2018.9)\n",
            "Requirement already satisfied: munch in /usr/local/lib/python3.7/dist-packages (from fiona>=1.8->geopandas) (2.5.0)\n",
            "Requirement already satisfied: six>=1.7 in /usr/local/lib/python3.7/dist-packages (from fiona>=1.8->geopandas) (1.15.0)\n",
            "Requirement already satisfied: click<8,>=4.0 in /usr/local/lib/python3.7/dist-packages (from fiona>=1.8->geopandas) (7.1.2)\n",
            "Requirement already satisfied: cligj>=0.5 in /usr/local/lib/python3.7/dist-packages (from fiona>=1.8->geopandas) (0.7.1)\n",
            "Requirement already satisfied: click-plugins>=1.0 in /usr/local/lib/python3.7/dist-packages (from fiona>=1.8->geopandas) (1.1.1)\n",
            "Requirement already satisfied: attrs>=17 in /usr/local/lib/python3.7/dist-packages (from fiona>=1.8->geopandas) (20.3.0)\n",
            "Requirement already satisfied: fsspec in /usr/local/lib/python3.7/dist-packages (0.8.7)\n",
            "Requirement already satisfied: importlib-metadata; python_version < \"3.8\" in /usr/local/lib/python3.7/dist-packages (from fsspec) (3.8.1)\n",
            "Requirement already satisfied: typing-extensions>=3.6.4; python_version < \"3.8\" in /usr/local/lib/python3.7/dist-packages (from importlib-metadata; python_version < \"3.8\"->fsspec) (3.7.4.3)\n",
            "Requirement already satisfied: zipp>=0.5 in /usr/local/lib/python3.7/dist-packages (from importlib-metadata; python_version < \"3.8\"->fsspec) (3.4.1)\n"
          ],
          "name": "stdout"
        }
      ]
    },
    {
      "cell_type": "code",
      "metadata": {
        "colab": {
          "base_uri": "https://localhost:8080/"
        },
        "id": "H66HyTKAX5GI",
        "outputId": "148e0e83-bd92-452e-b6e0-d9a3638442b6"
      },
      "source": [
        "from google.colab import drive\n",
        "drive.mount(\"/content/drive\")"
      ],
      "execution_count": null,
      "outputs": [
        {
          "output_type": "stream",
          "text": [
            "Drive already mounted at /content/drive; to attempt to forcibly remount, call drive.mount(\"/content/drive\", force_remount=True).\n"
          ],
          "name": "stdout"
        }
      ]
    },
    {
      "cell_type": "code",
      "metadata": {
        "colab": {
          "base_uri": "https://localhost:8080/",
          "height": 209
        },
        "id": "eA47PAQlZZVg",
        "outputId": "63e59736-6b72-416f-a195-b4b2030dc9c2"
      },
      "source": [
        "import os\n",
        "os.chdir('drive/MyDrive/DATA')\n",
        "os.getcwd()"
      ],
      "execution_count": null,
      "outputs": [
        {
          "output_type": "error",
          "ename": "FileNotFoundError",
          "evalue": "ignored",
          "traceback": [
            "\u001b[0;31m---------------------------------------------------------------------------\u001b[0m",
            "\u001b[0;31mFileNotFoundError\u001b[0m                         Traceback (most recent call last)",
            "\u001b[0;32m<ipython-input-12-cf93dd5083ab>\u001b[0m in \u001b[0;36m<module>\u001b[0;34m()\u001b[0m\n\u001b[1;32m      1\u001b[0m \u001b[0;32mimport\u001b[0m \u001b[0mos\u001b[0m\u001b[0;34m\u001b[0m\u001b[0;34m\u001b[0m\u001b[0m\n\u001b[0;32m----> 2\u001b[0;31m \u001b[0mos\u001b[0m\u001b[0;34m.\u001b[0m\u001b[0mchdir\u001b[0m\u001b[0;34m(\u001b[0m\u001b[0;34m'drive/MyDrive/DATA'\u001b[0m\u001b[0;34m)\u001b[0m\u001b[0;34m\u001b[0m\u001b[0;34m\u001b[0m\u001b[0m\n\u001b[0m\u001b[1;32m      3\u001b[0m \u001b[0mos\u001b[0m\u001b[0;34m.\u001b[0m\u001b[0mgetcwd\u001b[0m\u001b[0;34m(\u001b[0m\u001b[0;34m)\u001b[0m\u001b[0;34m\u001b[0m\u001b[0;34m\u001b[0m\u001b[0m\n",
            "\u001b[0;31mFileNotFoundError\u001b[0m: [Errno 2] No such file or directory: 'drive/MyDrive/DATA'"
          ]
        }
      ]
    },
    {
      "cell_type": "code",
      "metadata": {
        "colab": {
          "base_uri": "https://localhost:8080/"
        },
        "id": "pq2RLRfPkJ-c",
        "outputId": "acd9bf3a-2186-4878-87fa-207c6519480b"
      },
      "source": [
        "!ls"
      ],
      "execution_count": null,
      "outputs": [
        {
          "output_type": "stream",
          "text": [
            "Property_Valuation_and_Assessment_Data.csv\n"
          ],
          "name": "stdout"
        }
      ]
    },
    {
      "cell_type": "code",
      "metadata": {
        "id": "_eXtNz33ZgfU"
      },
      "source": [
        "# Read file as panda dataframe\n",
        "propVal = pd.read_csv('Property_Valuation_and_Assessment_Data.csv')"
      ],
      "execution_count": null,
      "outputs": []
    },
    {
      "cell_type": "code",
      "metadata": {
        "colab": {
          "base_uri": "https://localhost:8080/",
          "height": 400
        },
        "id": "29NLda6bZiqY",
        "outputId": "a0a0c6dc-d95a-41f6-9dea-7c1c856a21d8"
      },
      "source": [
        "#1st step: lets just look at the dataset\n",
        "  #a)look at the first five rows\n",
        "propVal.head()"
      ],
      "execution_count": null,
      "outputs": [
        {
          "output_type": "execute_result",
          "data": {
            "text/html": [
              "<div>\n",
              "<style scoped>\n",
              "    .dataframe tbody tr th:only-of-type {\n",
              "        vertical-align: middle;\n",
              "    }\n",
              "\n",
              "    .dataframe tbody tr th {\n",
              "        vertical-align: top;\n",
              "    }\n",
              "\n",
              "    .dataframe thead th {\n",
              "        text-align: right;\n",
              "    }\n",
              "</style>\n",
              "<table border=\"1\" class=\"dataframe\">\n",
              "  <thead>\n",
              "    <tr style=\"text-align: right;\">\n",
              "      <th></th>\n",
              "      <th>BBLE</th>\n",
              "      <th>BORO</th>\n",
              "      <th>BLOCK</th>\n",
              "      <th>LOT</th>\n",
              "      <th>EASEMENT</th>\n",
              "      <th>OWNER</th>\n",
              "      <th>BLDGCL</th>\n",
              "      <th>TAXCLASS</th>\n",
              "      <th>LTFRONT</th>\n",
              "      <th>LTDEPTH</th>\n",
              "      <th>EXT</th>\n",
              "      <th>STORIES</th>\n",
              "      <th>FULLVAL</th>\n",
              "      <th>AVLAND</th>\n",
              "      <th>AVTOT</th>\n",
              "      <th>EXLAND</th>\n",
              "      <th>EXTOT</th>\n",
              "      <th>EXCD1</th>\n",
              "      <th>STADDR</th>\n",
              "      <th>POSTCODE</th>\n",
              "      <th>EXMPTCL</th>\n",
              "      <th>BLDFRONT</th>\n",
              "      <th>BLDDEPTH</th>\n",
              "      <th>AVLAND2</th>\n",
              "      <th>AVTOT2</th>\n",
              "      <th>EXLAND2</th>\n",
              "      <th>EXTOT2</th>\n",
              "      <th>EXCD2</th>\n",
              "      <th>PERIOD</th>\n",
              "      <th>YEAR</th>\n",
              "      <th>VALTYPE</th>\n",
              "      <th>Borough</th>\n",
              "      <th>Latitude</th>\n",
              "      <th>Longitude</th>\n",
              "      <th>Community Board</th>\n",
              "      <th>Council District</th>\n",
              "      <th>Census Tract</th>\n",
              "      <th>BIN</th>\n",
              "      <th>NTA</th>\n",
              "      <th>New Georeferenced Column</th>\n",
              "    </tr>\n",
              "  </thead>\n",
              "  <tbody>\n",
              "    <tr>\n",
              "      <th>0</th>\n",
              "      <td>1000163859</td>\n",
              "      <td>1</td>\n",
              "      <td>16</td>\n",
              "      <td>3859</td>\n",
              "      <td>NaN</td>\n",
              "      <td>CHEN, QI TOM</td>\n",
              "      <td>R4</td>\n",
              "      <td>2</td>\n",
              "      <td>0</td>\n",
              "      <td>0</td>\n",
              "      <td>NaN</td>\n",
              "      <td>31.0</td>\n",
              "      <td>354180</td>\n",
              "      <td>3310</td>\n",
              "      <td>159381</td>\n",
              "      <td>3310</td>\n",
              "      <td>159381</td>\n",
              "      <td>6800.0</td>\n",
              "      <td>1 RIVER TERRACE</td>\n",
              "      <td>NaN</td>\n",
              "      <td>NaN</td>\n",
              "      <td>0</td>\n",
              "      <td>0</td>\n",
              "      <td>3310.0</td>\n",
              "      <td>148953.0</td>\n",
              "      <td>3310.0</td>\n",
              "      <td>148953.0</td>\n",
              "      <td>NaN</td>\n",
              "      <td>FINAL</td>\n",
              "      <td>2018/19</td>\n",
              "      <td>AC-TR</td>\n",
              "      <td>NaN</td>\n",
              "      <td>NaN</td>\n",
              "      <td>NaN</td>\n",
              "      <td>NaN</td>\n",
              "      <td>NaN</td>\n",
              "      <td>NaN</td>\n",
              "      <td>NaN</td>\n",
              "      <td>NaN</td>\n",
              "      <td>NaN</td>\n",
              "    </tr>\n",
              "    <tr>\n",
              "      <th>1</th>\n",
              "      <td>1000730028</td>\n",
              "      <td>1</td>\n",
              "      <td>73</td>\n",
              "      <td>28</td>\n",
              "      <td>NaN</td>\n",
              "      <td>NYC DSBS</td>\n",
              "      <td>V1</td>\n",
              "      <td>4</td>\n",
              "      <td>183</td>\n",
              "      <td>52</td>\n",
              "      <td>NaN</td>\n",
              "      <td>NaN</td>\n",
              "      <td>3515000</td>\n",
              "      <td>1581750</td>\n",
              "      <td>1581750</td>\n",
              "      <td>1581750</td>\n",
              "      <td>1581750</td>\n",
              "      <td>2191.0</td>\n",
              "      <td>MARGINAL STREET</td>\n",
              "      <td>10038.0</td>\n",
              "      <td>X1</td>\n",
              "      <td>0</td>\n",
              "      <td>0</td>\n",
              "      <td>1080594.0</td>\n",
              "      <td>1080594.0</td>\n",
              "      <td>1080594.0</td>\n",
              "      <td>1080594.0</td>\n",
              "      <td>NaN</td>\n",
              "      <td>FINAL</td>\n",
              "      <td>2018/19</td>\n",
              "      <td>AC-TR</td>\n",
              "      <td>NaN</td>\n",
              "      <td>NaN</td>\n",
              "      <td>NaN</td>\n",
              "      <td>NaN</td>\n",
              "      <td>NaN</td>\n",
              "      <td>NaN</td>\n",
              "      <td>NaN</td>\n",
              "      <td>NaN</td>\n",
              "      <td>NaN</td>\n",
              "    </tr>\n",
              "    <tr>\n",
              "      <th>2</th>\n",
              "      <td>1000730029</td>\n",
              "      <td>1</td>\n",
              "      <td>73</td>\n",
              "      <td>29</td>\n",
              "      <td>NaN</td>\n",
              "      <td>NYC DSBS</td>\n",
              "      <td>Y7</td>\n",
              "      <td>4</td>\n",
              "      <td>90</td>\n",
              "      <td>500</td>\n",
              "      <td>NaN</td>\n",
              "      <td>1.0</td>\n",
              "      <td>8215000</td>\n",
              "      <td>2812050</td>\n",
              "      <td>3696750</td>\n",
              "      <td>2812050</td>\n",
              "      <td>3696750</td>\n",
              "      <td>2191.0</td>\n",
              "      <td>MARGINAL STREET</td>\n",
              "      <td>10038.0</td>\n",
              "      <td>X1</td>\n",
              "      <td>90</td>\n",
              "      <td>258</td>\n",
              "      <td>2812050.0</td>\n",
              "      <td>3487680.0</td>\n",
              "      <td>2812050.0</td>\n",
              "      <td>3487680.0</td>\n",
              "      <td>NaN</td>\n",
              "      <td>FINAL</td>\n",
              "      <td>2018/19</td>\n",
              "      <td>AC-TR</td>\n",
              "      <td>NaN</td>\n",
              "      <td>NaN</td>\n",
              "      <td>NaN</td>\n",
              "      <td>NaN</td>\n",
              "      <td>NaN</td>\n",
              "      <td>NaN</td>\n",
              "      <td>NaN</td>\n",
              "      <td>NaN</td>\n",
              "      <td>NaN</td>\n",
              "    </tr>\n",
              "    <tr>\n",
              "      <th>3</th>\n",
              "      <td>1000297504</td>\n",
              "      <td>1</td>\n",
              "      <td>29</td>\n",
              "      <td>7504</td>\n",
              "      <td>NaN</td>\n",
              "      <td>NaN</td>\n",
              "      <td>R0</td>\n",
              "      <td>2</td>\n",
              "      <td>36</td>\n",
              "      <td>73</td>\n",
              "      <td>NaN</td>\n",
              "      <td>7.0</td>\n",
              "      <td>0</td>\n",
              "      <td>0</td>\n",
              "      <td>0</td>\n",
              "      <td>0</td>\n",
              "      <td>0</td>\n",
              "      <td>NaN</td>\n",
              "      <td>54 STANTON ST EXTENSION</td>\n",
              "      <td>10004.0</td>\n",
              "      <td>NaN</td>\n",
              "      <td>36</td>\n",
              "      <td>73</td>\n",
              "      <td>NaN</td>\n",
              "      <td>NaN</td>\n",
              "      <td>NaN</td>\n",
              "      <td>NaN</td>\n",
              "      <td>NaN</td>\n",
              "      <td>FINAL</td>\n",
              "      <td>2018/19</td>\n",
              "      <td>AC-TR</td>\n",
              "      <td>NaN</td>\n",
              "      <td>NaN</td>\n",
              "      <td>NaN</td>\n",
              "      <td>NaN</td>\n",
              "      <td>NaN</td>\n",
              "      <td>NaN</td>\n",
              "      <td>NaN</td>\n",
              "      <td>NaN</td>\n",
              "      <td>NaN</td>\n",
              "    </tr>\n",
              "    <tr>\n",
              "      <th>4</th>\n",
              "      <td>1000360012</td>\n",
              "      <td>1</td>\n",
              "      <td>36</td>\n",
              "      <td>12</td>\n",
              "      <td>NaN</td>\n",
              "      <td>NYC DSBS</td>\n",
              "      <td>Y7</td>\n",
              "      <td>4</td>\n",
              "      <td>534</td>\n",
              "      <td>604</td>\n",
              "      <td>NaN</td>\n",
              "      <td>NaN</td>\n",
              "      <td>26246000</td>\n",
              "      <td>9180000</td>\n",
              "      <td>11810700</td>\n",
              "      <td>9180000</td>\n",
              "      <td>11810700</td>\n",
              "      <td>2191.0</td>\n",
              "      <td>PIER 9</td>\n",
              "      <td>NaN</td>\n",
              "      <td>X1</td>\n",
              "      <td>0</td>\n",
              "      <td>604</td>\n",
              "      <td>9180000.0</td>\n",
              "      <td>11142540.0</td>\n",
              "      <td>9180000.0</td>\n",
              "      <td>11142540.0</td>\n",
              "      <td>NaN</td>\n",
              "      <td>FINAL</td>\n",
              "      <td>2018/19</td>\n",
              "      <td>AC-TR</td>\n",
              "      <td>NaN</td>\n",
              "      <td>NaN</td>\n",
              "      <td>NaN</td>\n",
              "      <td>NaN</td>\n",
              "      <td>NaN</td>\n",
              "      <td>NaN</td>\n",
              "      <td>NaN</td>\n",
              "      <td>NaN</td>\n",
              "      <td>NaN</td>\n",
              "    </tr>\n",
              "  </tbody>\n",
              "</table>\n",
              "</div>"
            ],
            "text/plain": [
              "         BBLE  BORO  BLOCK  ...  BIN  NTA New Georeferenced Column\n",
              "0  1000163859     1     16  ...  NaN  NaN                      NaN\n",
              "1  1000730028     1     73  ...  NaN  NaN                      NaN\n",
              "2  1000730029     1     73  ...  NaN  NaN                      NaN\n",
              "3  1000297504     1     29  ...  NaN  NaN                      NaN\n",
              "4  1000360012     1     36  ...  NaN  NaN                      NaN\n",
              "\n",
              "[5 rows x 40 columns]"
            ]
          },
          "metadata": {
            "tags": []
          },
          "execution_count": 5
        }
      ]
    },
    {
      "cell_type": "code",
      "metadata": {
        "colab": {
          "base_uri": "https://localhost:8080/"
        },
        "id": "hS3jIm3OeDHU",
        "outputId": "061006ef-a89e-4fee-b62e-d2808bc7d5f7"
      },
      "source": [
        "#1st step: lets just look at the dataset\n",
        "  #b)checking the shape: # of rows, # of columns\n",
        "propVal.shape"
      ],
      "execution_count": null,
      "outputs": [
        {
          "output_type": "execute_result",
          "data": {
            "text/plain": [
              "(9845857, 40)"
            ]
          },
          "metadata": {
            "tags": []
          },
          "execution_count": 7
        }
      ]
    },
    {
      "cell_type": "code",
      "metadata": {
        "colab": {
          "base_uri": "https://localhost:8080/"
        },
        "id": "lVuXtLL1eNas",
        "outputId": "b381fe1e-0311-47cf-b934-f9fc5087da7b"
      },
      "source": [
        " #1st step: lets just look at the dataset\n",
        "  #c)lets look at dtypes, so what kind of things are inside this dataset, for every column-- this is useful because object types can often contain lists and dictionaries\n",
        "propVal.dtypes"
      ],
      "execution_count": null,
      "outputs": [
        {
          "output_type": "execute_result",
          "data": {
            "text/plain": [
              "BBLE                         object\n",
              "BORO                          int64\n",
              "BLOCK                         int64\n",
              "LOT                           int64\n",
              "EASEMENT                     object\n",
              "OWNER                        object\n",
              "BLDGCL                       object\n",
              "TAXCLASS                     object\n",
              "LTFRONT                       int64\n",
              "LTDEPTH                       int64\n",
              "EXT                          object\n",
              "STORIES                     float64\n",
              "FULLVAL                       int64\n",
              "AVLAND                        int64\n",
              "AVTOT                         int64\n",
              "EXLAND                        int64\n",
              "EXTOT                         int64\n",
              "EXCD1                       float64\n",
              "STADDR                       object\n",
              "POSTCODE                    float64\n",
              "EXMPTCL                      object\n",
              "BLDFRONT                      int64\n",
              "BLDDEPTH                      int64\n",
              "AVLAND2                     float64\n",
              "AVTOT2                      float64\n",
              "EXLAND2                     float64\n",
              "EXTOT2                      float64\n",
              "EXCD2                       float64\n",
              "PERIOD                       object\n",
              "YEAR                         object\n",
              "VALTYPE                      object\n",
              "Borough                      object\n",
              "Latitude                    float64\n",
              "Longitude                   float64\n",
              "Community Board             float64\n",
              "Council District            float64\n",
              "Census Tract                float64\n",
              "BIN                         float64\n",
              "NTA                          object\n",
              "New Georeferenced Column     object\n",
              "dtype: object"
            ]
          },
          "metadata": {
            "tags": []
          },
          "execution_count": 13
        }
      ]
    },
    {
      "cell_type": "code",
      "metadata": {
        "colab": {
          "base_uri": "https://localhost:8080/"
        },
        "id": "x6TAyt1ve-u8",
        "outputId": "a226ab16-c663-49fa-f23a-9e789aba35d3"
      },
      "source": [
        "#lets check if NA is within the dataset, if so, lets get the total number of NAs in the columns (respectively)\n",
        "propVal.isna().sum()"
      ],
      "execution_count": null,
      "outputs": [
        {
          "output_type": "execute_result",
          "data": {
            "text/plain": [
              "BBLE                              0\n",
              "BORO                              0\n",
              "BLOCK                             0\n",
              "LOT                               0\n",
              "EASEMENT                    9804549\n",
              "OWNER                        215681\n",
              "BLDGCL                            0\n",
              "TAXCLASS                          0\n",
              "LTFRONT                           0\n",
              "LTDEPTH                           0\n",
              "EXT                         6664339\n",
              "STORIES                      508578\n",
              "FULLVAL                           0\n",
              "AVLAND                            0\n",
              "AVTOT                             0\n",
              "EXLAND                            0\n",
              "EXTOT                             0\n",
              "EXCD1                       4620538\n",
              "STADDR                         6032\n",
              "POSTCODE                     249770\n",
              "EXMPTCL                     9707249\n",
              "BLDFRONT                          0\n",
              "BLDDEPTH                          0\n",
              "AVLAND2                     7138565\n",
              "AVTOT2                      7138545\n",
              "EXLAND2                     9053479\n",
              "EXTOT2                      8616020\n",
              "EXCD2                       9081516\n",
              "PERIOD                            0\n",
              "YEAR                              0\n",
              "VALTYPE                           0\n",
              "Borough                      342055\n",
              "Latitude                     344743\n",
              "Longitude                    344743\n",
              "Community Board              344743\n",
              "Council District             344743\n",
              "Census Tract                 344743\n",
              "BIN                          401561\n",
              "NTA                          344743\n",
              "New Georeferenced Column     344743\n",
              "dtype: int64"
            ]
          },
          "metadata": {
            "tags": []
          },
          "execution_count": 8
        }
      ]
    },
    {
      "cell_type": "code",
      "metadata": {
        "id": "gQgi_j67fUog"
      },
      "source": [
        "#Let's ask some questions!\n",
        "  #How many properties are listed here?\n",
        "  #How much is the total property value for all the properties?\n",
        "  #What years is this dataset in reference to?\n",
        "  #How many properties are listed per year?\n",
        "  #What is the average property value per borough?\n",
        "  #Which borough has the highest property values? the lowest?\n",
        "  #What is the average property value per borough per years?"
      ],
      "execution_count": null,
      "outputs": []
    },
    {
      "cell_type": "code",
      "metadata": {
        "colab": {
          "base_uri": "https://localhost:8080/"
        },
        "id": "fVAvwWYQiJ9M",
        "outputId": "6bf40c7e-2773-402a-9197-67fe8dc37875"
      },
      "source": [
        "#How many properties are listed here? --> number of rows\n",
        "#we can use len\n",
        "len(propVal)\n",
        "#we can also use .shape\n",
        "propVal.shape"
      ],
      "execution_count": null,
      "outputs": [
        {
          "output_type": "execute_result",
          "data": {
            "text/plain": [
              "(9845857, 40)"
            ]
          },
          "metadata": {
            "tags": []
          },
          "execution_count": 20
        }
      ]
    },
    {
      "cell_type": "code",
      "metadata": {
        "colab": {
          "base_uri": "https://localhost:8080/"
        },
        "id": "cYF93sZQieak",
        "outputId": "f889fcd7-bc41-4ca5-8250-0dfffdec2653"
      },
      "source": [
        "#How much is total property value for all the properties? --> sum of FULLVAL\n",
        "#just the sum of value\n",
        "propVal['FULLVAL'].sum()"
      ],
      "execution_count": null,
      "outputs": [
        {
          "output_type": "execute_result",
          "data": {
            "text/plain": [
              "10243277327983"
            ]
          },
          "metadata": {
            "tags": []
          },
          "execution_count": 21
        }
      ]
    },
    {
      "cell_type": "code",
      "metadata": {
        "colab": {
          "base_uri": "https://localhost:8080/"
        },
        "id": "-MofZaa5jc8I",
        "outputId": "c21ef169-c39f-4ac4-a62a-470929a44a30"
      },
      "source": [
        "#What years is this dataset in reference to?\n",
        "pd.unique(propVal['YEAR'])"
      ],
      "execution_count": null,
      "outputs": [
        {
          "output_type": "execute_result",
          "data": {
            "text/plain": [
              "array(['2018/19', '2017/18', '2016/17', '2015/16', '2014/15', '2013/14',\n",
              "       '2012/13', '2010/11', '2011/12'], dtype=object)"
            ]
          },
          "metadata": {
            "tags": []
          },
          "execution_count": 41
        }
      ]
    },
    {
      "cell_type": "code",
      "metadata": {
        "colab": {
          "base_uri": "https://localhost:8080/"
        },
        "id": "FJLltjqrOq24",
        "outputId": "a395cf79-c96c-4bfa-acc0-0b0bbd87bbc0"
      },
      "source": [
        "#How many properties are listed per year?\n",
        "#extracting from YEARs, printing all together\n",
        "prop1011 = propVal[propVal['YEAR'] == '2010/11']\n",
        "prop1112 = propVal[propVal['YEAR'] == '2011/12']\n",
        "prop1213 = propVal[propVal['YEAR'] == '2012/13']\n",
        "prop1314 = propVal[propVal['YEAR'] == '2013/14']\n",
        "prop1415 = propVal[propVal['YEAR'] == '2014/15']\n",
        "prop1516 = propVal[propVal['YEAR'] == '2015/16']\n",
        "prop1617 = propVal[propVal['YEAR'] == '2016/17']\n",
        "prop1718 = propVal[propVal['YEAR'] == '2017/18']\n",
        "prop1819 = propVal[propVal['YEAR'] == '2018/19']\n",
        "\n",
        "#printing rows belonging the year and length \n",
        "#print(prop1011),(len(prop1011))\n",
        "\n",
        "print(len(prop1011)),(len(prop1112)),(len(prop1213)),(len(prop1314)),(len(prop1415)),(len(prop1516)),(len(prop1617)),(len(prop1718)),(len(prop1819))"
      ],
      "execution_count": null,
      "outputs": [
        {
          "output_type": "stream",
          "text": [
            "1070995\n"
          ],
          "name": "stdout"
        },
        {
          "output_type": "execute_result",
          "data": {
            "text/plain": [
              "(None, 1080569, 1086396, 1088350, 1093327, 1096247, 1103323, 1110058, 1116592)"
            ]
          },
          "metadata": {
            "tags": []
          },
          "execution_count": 43
        }
      ]
    },
    {
      "cell_type": "code",
      "metadata": {
        "colab": {
          "base_uri": "https://localhost:8080/"
        },
        "id": "PeppBF_cmEDc",
        "outputId": "04adc1d4-386b-498a-f905-b7df09279940"
      },
      "source": [
        "#How many properties are listed per year? printing one by one\n",
        "#extracting from YEAR, 2016/17\n",
        "prop1617 = propVal[propVal['YEAR'] == '2016/17']\n",
        "prop1617\n",
        "len(prop1617)"
      ],
      "execution_count": null,
      "outputs": [
        {
          "output_type": "execute_result",
          "data": {
            "text/plain": [
              "1103323"
            ]
          },
          "metadata": {
            "tags": []
          },
          "execution_count": 32
        }
      ]
    },
    {
      "cell_type": "code",
      "metadata": {
        "colab": {
          "base_uri": "https://localhost:8080/"
        },
        "id": "dlvg1vf5fKkg",
        "outputId": "cb2f3121-679c-4d96-dd72-7ca1d58fc999"
      },
      "source": [
        "#What is the average property value per borough?\n",
        "#>>>let's see what the boroughs are\n",
        "pd.unique(propVal['BORO'])\n",
        "pd.unique(propVal['Borough'])\n"
      ],
      "execution_count": null,
      "outputs": [
        {
          "output_type": "execute_result",
          "data": {
            "text/plain": [
              "array([nan, 'MANHATTAN', 'BRONX', 'BROOKLYN', 'QUEENS', 'STATEN IS'],\n",
              "      dtype=object)"
            ]
          },
          "metadata": {
            "tags": []
          },
          "execution_count": 46
        }
      ]
    },
    {
      "cell_type": "code",
      "metadata": {
        "id": "AZt93pHSOh7A",
        "colab": {
          "base_uri": "https://localhost:8080/"
        },
        "outputId": "f66a90cf-d67c-417e-e335-1b5b22b2d706"
      },
      "source": [
        "#What is the average property value per borough?\n",
        "#>>> first let's see how many properties per borough, similar to above \n",
        "\n",
        "prop_MN = propVal[propVal['Borough']== 'MANHATTAN']\n",
        "prop_BX = propVal[propVal['Borough']== 'BRONX']\n",
        "prop_BK= propVal[propVal['Borough']=='BROOKLYN']\n",
        "prop_Q = propVal[propVal['Borough']=='QUEENS']\n",
        "prop_SI = propVal[propVal['Borough']== 'STATEN IS']\n",
        "\n",
        "print(len(prop_MN)), (len(prop_BX)), (len(prop_BK)), (len([prop_Q])), (len(prop_SI))"
      ],
      "execution_count": null,
      "outputs": [
        {
          "output_type": "stream",
          "text": [
            "1367427\n"
          ],
          "name": "stdout"
        },
        {
          "output_type": "execute_result",
          "data": {
            "text/plain": [
              "(None, 929433, 2924705, 1, 1123915)"
            ]
          },
          "metadata": {
            "tags": []
          },
          "execution_count": 11
        }
      ]
    },
    {
      "cell_type": "code",
      "metadata": {
        "colab": {
          "base_uri": "https://localhost:8080/"
        },
        "id": "XvQG6mcCftzM",
        "outputId": "0cc77764-c824-4b30-f425-33e0439ca62f"
      },
      "source": [
        "#Queens\n",
        "len(propVal[propVal['Borough']== 'QUEENS'])"
      ],
      "execution_count": null,
      "outputs": [
        {
          "output_type": "execute_result",
          "data": {
            "text/plain": [
              "3158322"
            ]
          },
          "metadata": {
            "tags": []
          },
          "execution_count": 12
        }
      ]
    },
    {
      "cell_type": "code",
      "metadata": {
        "colab": {
          "base_uri": "https://localhost:8080/"
        },
        "id": "DOVj12WbqXdw",
        "outputId": "31527033-588f-49e5-d0aa-5cce34d42aba"
      },
      "source": [
        "#Brooklyn\n",
        "len(propVal[propVal['Borough']== 'BROOKLYN'])"
      ],
      "execution_count": null,
      "outputs": [
        {
          "output_type": "execute_result",
          "data": {
            "text/plain": [
              "2924705"
            ]
          },
          "metadata": {
            "tags": []
          },
          "execution_count": 13
        }
      ]
    },
    {
      "cell_type": "code",
      "metadata": {
        "colab": {
          "base_uri": "https://localhost:8080/"
        },
        "id": "R11j1M3frHwY",
        "outputId": "ee52ffc7-9d34-4c34-d20e-d43271dea3d3"
      },
      "source": [
        "#THEBronx\n",
        "len(propVal[propVal['Borough']== 'BRONX'])"
      ],
      "execution_count": null,
      "outputs": [
        {
          "output_type": "execute_result",
          "data": {
            "text/plain": [
              "929433"
            ]
          },
          "metadata": {
            "tags": []
          },
          "execution_count": 14
        }
      ]
    },
    {
      "cell_type": "code",
      "metadata": {
        "colab": {
          "base_uri": "https://localhost:8080/"
        },
        "id": "Yf1-XnGJrMqc",
        "outputId": "6c207830-a8d3-4fe7-ea06-f09d6757f8f6"
      },
      "source": [
        "#MN\n",
        "len(propVal[propVal['Borough']== 'MANHATTAN'])"
      ],
      "execution_count": null,
      "outputs": [
        {
          "output_type": "execute_result",
          "data": {
            "text/plain": [
              "1367427"
            ]
          },
          "metadata": {
            "tags": []
          },
          "execution_count": 15
        }
      ]
    },
    {
      "cell_type": "code",
      "metadata": {
        "colab": {
          "base_uri": "https://localhost:8080/"
        },
        "id": "91DPzTewrS3U",
        "outputId": "8182f321-9847-45e5-e0dd-d0838078c6f6"
      },
      "source": [
        "#average price of MN\n",
        "prop_MN = propVal[propVal['Borough']== 'MANHATTAN']\n",
        "mean_MN = prop_MN['FULLVAL'].mean()\n",
        "median_MN = prop_MN['FULLVAL'].median()\n",
        "mode_MN = prop_MN['FULLVAL'].mode()\n",
        "\n",
        "print((mean_MN), (median_MN), (mode_MN))"
      ],
      "execution_count": null,
      "outputs": [
        {
          "output_type": "stream",
          "text": [
            "2930445.187503245 319119.0 0    0\n",
            "dtype: int64\n"
          ],
          "name": "stdout"
        }
      ]
    },
    {
      "cell_type": "code",
      "metadata": {
        "colab": {
          "base_uri": "https://localhost:8080/"
        },
        "id": "Sw5lqFKxx1fg",
        "outputId": "9d2eaa14-c1e8-45b5-8c3f-6d1ac301bb66"
      },
      "source": [
        "#average price of BK\n",
        "prop_BK = propVal[propVal['Borough']== 'BROOKLYN']\n",
        "mean_BK = prop_BK['FULLVAL'].mean()\n",
        "median_BK = prop_BK['FULLVAL'].median()\n",
        "mode_BK = prop_BK['FULLVAL'].mode()\n",
        "\n",
        "print((mean_BK), (median_BK), (mode_BK))"
      ],
      "execution_count": null,
      "outputs": [
        {
          "output_type": "stream",
          "text": [
            "796716.9819233051 549000.0 0    0\n",
            "dtype: int64\n"
          ],
          "name": "stdout"
        }
      ]
    },
    {
      "cell_type": "code",
      "metadata": {
        "colab": {
          "base_uri": "https://localhost:8080/"
        },
        "id": "orFVsGZvx1kM",
        "outputId": "76a42503-5186-4411-f003-781e0ef136f9"
      },
      "source": [
        "#average price of BX\n",
        "prop_BX = propVal[propVal['Borough']== 'BRONX']\n",
        "mean_BX = prop_BX['FULLVAL'].mean()\n",
        "median_BX = prop_BX['FULLVAL'].median()\n",
        "\n",
        "print((mean_BX), (median_BX))"
      ],
      "execution_count": null,
      "outputs": [
        {
          "output_type": "stream",
          "text": [
            "728494.4776116192 415000.0\n"
          ],
          "name": "stdout"
        }
      ]
    },
    {
      "cell_type": "code",
      "metadata": {
        "colab": {
          "base_uri": "https://localhost:8080/"
        },
        "id": "VxXVDEDbx1o4",
        "outputId": "550e03ab-ae95-42ca-d341-58ef2ecfa62e"
      },
      "source": [
        "#average price of SI\n",
        "prop_SI = propVal[propVal['Borough']== 'STATEN IS']\n",
        "mean_SI = prop_SI['FULLVAL'].mean()\n",
        "median_SI = prop_SI['FULLVAL'].median()\n",
        "\n",
        "print((mean_SI), (median_SI))"
      ],
      "execution_count": null,
      "outputs": [
        {
          "output_type": "stream",
          "text": [
            "514003.68627876666 415000.0\n"
          ],
          "name": "stdout"
        }
      ]
    },
    {
      "cell_type": "code",
      "metadata": {
        "colab": {
          "base_uri": "https://localhost:8080/"
        },
        "id": "5BzvC0rnyxCc",
        "outputId": "0c894103-55cf-4301-aaa4-ae8b05bd0e8b"
      },
      "source": [
        "#average price of Q\n",
        "prop_Q = propVal[propVal['Borough']== 'QUEENS']\n",
        "mean_Q = prop_Q['FULLVAL'].mean()\n",
        "median_Q = prop_Q['FULLVAL'].median()\n",
        "\n",
        "print((mean_Q), (median_Q))"
      ],
      "execution_count": null,
      "outputs": [
        {
          "output_type": "stream",
          "text": [
            "708274.9304263466 519000.0\n"
          ],
          "name": "stdout"
        }
      ]
    },
    {
      "cell_type": "code",
      "metadata": {
        "colab": {
          "base_uri": "https://localhost:8080/"
        },
        "id": "xBMzsGBW1SJY",
        "outputId": "08bb7cdb-f28a-4b68-eb68-d78363b4e4ad"
      },
      "source": [
        "#Which borough has the highest property values? the lowest? ---> MN(highest), BK, BX, Q, SI (lowest)\n",
        "mean_NYC=[mean_MN,mean_Q,mean_BK,mean_BX,mean_SI]\n",
        "print(mean_NYC)"
      ],
      "execution_count": null,
      "outputs": [
        {
          "output_type": "stream",
          "text": [
            "[2930445.187503245, 708274.9304263466, 796716.9819233051, 728494.4776116192, 514003.68627876666]\n"
          ],
          "name": "stdout"
        }
      ]
    },
    {
      "cell_type": "code",
      "metadata": {
        "id": "vJZeKh7Y6t08"
      },
      "source": [
        "#using groupby to create a new table of values which are averaged (mean)\n",
        "prop_group = propVal.groupby(by='Borough', observed=True).mean()"
      ],
      "execution_count": null,
      "outputs": []
    },
    {
      "cell_type": "code",
      "metadata": {
        "colab": {
          "base_uri": "https://localhost:8080/",
          "height": 275
        },
        "id": "LBqYQhBw6t4E",
        "outputId": "9678cbf8-40bc-4b6d-9b08-0143b77b2518"
      },
      "source": [
        "prop_group"
      ],
      "execution_count": null,
      "outputs": [
        {
          "output_type": "execute_result",
          "data": {
            "text/html": [
              "<div>\n",
              "<style scoped>\n",
              "    .dataframe tbody tr th:only-of-type {\n",
              "        vertical-align: middle;\n",
              "    }\n",
              "\n",
              "    .dataframe tbody tr th {\n",
              "        vertical-align: top;\n",
              "    }\n",
              "\n",
              "    .dataframe thead th {\n",
              "        text-align: right;\n",
              "    }\n",
              "</style>\n",
              "<table border=\"1\" class=\"dataframe\">\n",
              "  <thead>\n",
              "    <tr style=\"text-align: right;\">\n",
              "      <th></th>\n",
              "      <th>BORO</th>\n",
              "      <th>BLOCK</th>\n",
              "      <th>LOT</th>\n",
              "      <th>LTFRONT</th>\n",
              "      <th>LTDEPTH</th>\n",
              "      <th>STORIES</th>\n",
              "      <th>FULLVAL</th>\n",
              "      <th>AVLAND</th>\n",
              "      <th>AVTOT</th>\n",
              "      <th>EXLAND</th>\n",
              "      <th>EXTOT</th>\n",
              "      <th>EXCD1</th>\n",
              "      <th>POSTCODE</th>\n",
              "      <th>BLDFRONT</th>\n",
              "      <th>BLDDEPTH</th>\n",
              "      <th>AVLAND2</th>\n",
              "      <th>AVTOT2</th>\n",
              "      <th>EXLAND2</th>\n",
              "      <th>EXTOT2</th>\n",
              "      <th>EXCD2</th>\n",
              "      <th>Latitude</th>\n",
              "      <th>Longitude</th>\n",
              "      <th>Community Board</th>\n",
              "      <th>Council District</th>\n",
              "      <th>Census Tract</th>\n",
              "      <th>BIN</th>\n",
              "    </tr>\n",
              "    <tr>\n",
              "      <th>Borough</th>\n",
              "      <th></th>\n",
              "      <th></th>\n",
              "      <th></th>\n",
              "      <th></th>\n",
              "      <th></th>\n",
              "      <th></th>\n",
              "      <th></th>\n",
              "      <th></th>\n",
              "      <th></th>\n",
              "      <th></th>\n",
              "      <th></th>\n",
              "      <th></th>\n",
              "      <th></th>\n",
              "      <th></th>\n",
              "      <th></th>\n",
              "      <th></th>\n",
              "      <th></th>\n",
              "      <th></th>\n",
              "      <th></th>\n",
              "      <th></th>\n",
              "      <th></th>\n",
              "      <th></th>\n",
              "      <th></th>\n",
              "      <th></th>\n",
              "      <th></th>\n",
              "      <th></th>\n",
              "    </tr>\n",
              "  </thead>\n",
              "  <tbody>\n",
              "    <tr>\n",
              "      <th>BRONX</th>\n",
              "      <td>2.0</td>\n",
              "      <td>4109.486631</td>\n",
              "      <td>520.789426</td>\n",
              "      <td>39.506335</td>\n",
              "      <td>89.201507</td>\n",
              "      <td>3.530768</td>\n",
              "      <td>7.284945e+05</td>\n",
              "      <td>41095.925510</td>\n",
              "      <td>2.012918e+05</td>\n",
              "      <td>19743.894957</td>\n",
              "      <td>115049.079682</td>\n",
              "      <td>1629.744594</td>\n",
              "      <td>10464.122158</td>\n",
              "      <td>26.684745</td>\n",
              "      <td>43.038278</td>\n",
              "      <td>105363.253896</td>\n",
              "      <td>5.717230e+05</td>\n",
              "      <td>281345.743569</td>\n",
              "      <td>5.691313e+05</td>\n",
              "      <td>1689.114723</td>\n",
              "      <td>40.850524</td>\n",
              "      <td>-73.864344</td>\n",
              "      <td>208.691242</td>\n",
              "      <td>14.320983</td>\n",
              "      <td>6118.658206</td>\n",
              "      <td>2.059989e+06</td>\n",
              "    </tr>\n",
              "    <tr>\n",
              "      <th>BROOKLYN</th>\n",
              "      <td>3.0</td>\n",
              "      <td>4568.484439</td>\n",
              "      <td>312.424544</td>\n",
              "      <td>28.969840</td>\n",
              "      <td>87.669418</td>\n",
              "      <td>3.236738</td>\n",
              "      <td>7.967170e+05</td>\n",
              "      <td>32497.691000</td>\n",
              "      <td>1.258985e+05</td>\n",
              "      <td>13084.351545</td>\n",
              "      <td>57046.345683</td>\n",
              "      <td>1881.797181</td>\n",
              "      <td>11220.286474</td>\n",
              "      <td>21.490539</td>\n",
              "      <td>43.866136</td>\n",
              "      <td>101706.541694</td>\n",
              "      <td>4.533359e+05</td>\n",
              "      <td>140164.741421</td>\n",
              "      <td>4.395699e+05</td>\n",
              "      <td>1544.456790</td>\n",
              "      <td>40.649462</td>\n",
              "      <td>-73.955440</td>\n",
              "      <td>309.825863</td>\n",
              "      <td>40.945661</td>\n",
              "      <td>4309.750685</td>\n",
              "      <td>3.170565e+06</td>\n",
              "    </tr>\n",
              "    <tr>\n",
              "      <th>MANHATTAN</th>\n",
              "      <td>1.0</td>\n",
              "      <td>1096.050609</td>\n",
              "      <td>1148.625972</td>\n",
              "      <td>34.963317</td>\n",
              "      <td>51.363098</td>\n",
              "      <td>18.915636</td>\n",
              "      <td>2.930445e+06</td>\n",
              "      <td>318830.958099</td>\n",
              "      <td>1.178915e+06</td>\n",
              "      <td>100228.757129</td>\n",
              "      <td>319628.031543</td>\n",
              "      <td>3149.086764</td>\n",
              "      <td>10034.176175</td>\n",
              "      <td>29.574154</td>\n",
              "      <td>41.293839</td>\n",
              "      <td>350644.497102</td>\n",
              "      <td>1.195589e+06</td>\n",
              "      <td>477083.163572</td>\n",
              "      <td>8.792201e+05</td>\n",
              "      <td>1867.566363</td>\n",
              "      <td>40.761800</td>\n",
              "      <td>-73.977048</td>\n",
              "      <td>105.974186</td>\n",
              "      <td>4.243917</td>\n",
              "      <td>2238.678050</td>\n",
              "      <td>1.050616e+06</td>\n",
              "    </tr>\n",
              "    <tr>\n",
              "      <th>QUEENS</th>\n",
              "      <td>4.0</td>\n",
              "      <td>6987.873028</td>\n",
              "      <td>195.663789</td>\n",
              "      <td>35.998554</td>\n",
              "      <td>94.010081</td>\n",
              "      <td>2.687570</td>\n",
              "      <td>7.082749e+05</td>\n",
              "      <td>43683.620545</td>\n",
              "      <td>1.320077e+05</td>\n",
              "      <td>21326.186023</td>\n",
              "      <td>62377.035013</td>\n",
              "      <td>1411.692069</td>\n",
              "      <td>11377.942968</td>\n",
              "      <td>23.211494</td>\n",
              "      <td>39.365979</td>\n",
              "      <td>195929.604873</td>\n",
              "      <td>6.399821e+05</td>\n",
              "      <td>338168.001492</td>\n",
              "      <td>8.261010e+05</td>\n",
              "      <td>1109.283131</td>\n",
              "      <td>40.719672</td>\n",
              "      <td>-73.823622</td>\n",
              "      <td>408.175977</td>\n",
              "      <td>25.720012</td>\n",
              "      <td>16648.036978</td>\n",
              "      <td>4.198638e+06</td>\n",
              "    </tr>\n",
              "    <tr>\n",
              "      <th>STATEN IS</th>\n",
              "      <td>5.0</td>\n",
              "      <td>3346.946392</td>\n",
              "      <td>201.147574</td>\n",
              "      <td>44.316637</td>\n",
              "      <td>101.160162</td>\n",
              "      <td>2.023088</td>\n",
              "      <td>5.140037e+05</td>\n",
              "      <td>26202.898682</td>\n",
              "      <td>6.285956e+04</td>\n",
              "      <td>12440.700246</td>\n",
              "      <td>28184.918211</td>\n",
              "      <td>1161.906585</td>\n",
              "      <td>10308.220173</td>\n",
              "      <td>24.126799</td>\n",
              "      <td>37.885705</td>\n",
              "      <td>250611.163153</td>\n",
              "      <td>6.081301e+05</td>\n",
              "      <td>671132.774827</td>\n",
              "      <td>1.253412e+06</td>\n",
              "      <td>1023.076056</td>\n",
              "      <td>40.583976</td>\n",
              "      <td>-74.141198</td>\n",
              "      <td>502.071277</td>\n",
              "      <td>50.108093</td>\n",
              "      <td>10978.517250</td>\n",
              "      <td>5.071998e+06</td>\n",
              "    </tr>\n",
              "  </tbody>\n",
              "</table>\n",
              "</div>"
            ],
            "text/plain": [
              "           BORO        BLOCK  ...  Census Tract           BIN\n",
              "Borough                       ...                            \n",
              "BRONX       2.0  4109.486631  ...   6118.658206  2.059989e+06\n",
              "BROOKLYN    3.0  4568.484439  ...   4309.750685  3.170565e+06\n",
              "MANHATTAN   1.0  1096.050609  ...   2238.678050  1.050616e+06\n",
              "QUEENS      4.0  6987.873028  ...  16648.036978  4.198638e+06\n",
              "STATEN IS   5.0  3346.946392  ...  10978.517250  5.071998e+06\n",
              "\n",
              "[5 rows x 26 columns]"
            ]
          },
          "metadata": {
            "tags": []
          },
          "execution_count": 19
        }
      ]
    },
    {
      "cell_type": "code",
      "metadata": {
        "colab": {
          "base_uri": "https://localhost:8080/",
          "height": 1000
        },
        "id": "IMv7NBZn3SUg",
        "outputId": "98957a62-2bd2-4bf9-9c47-45fb67bc6b10"
      },
      "source": [
        "#visualizing the average(mean) property by borough\n",
        "plt.figure(dpi=300)\n",
        "plt.bar(prop_group.index, prop_group['FULLVAL'], color=['orange'], edgecolor=['gray'])\n",
        "plt.xlabel('BOROUGH', color = 'gray')\n",
        "plt.ylabel('PROPERTY VALUE(MEAN)', color='gray')\n",
        "\n",
        "\n",
        "#plt.scatter(propVal['BORO'],propVal['FULLVAL'])\n",
        "# x1,x2,y1,y2 = plt.axis()  \n",
        "# plt.axis((0,7786157000, y1, y2))"
      ],
      "execution_count": null,
      "outputs": [
        {
          "output_type": "execute_result",
          "data": {
            "text/plain": [
              "Text(0, 0.5, 'PROPERTY VALUE(MEAN)')"
            ]
          },
          "metadata": {
            "tags": []
          },
          "execution_count": 48
        },
        {
          "output_type": "display_data",
          "data": {
            "image/png": "[encoded data removed]",
            "text/plain": [
              "<Figure size 1800x1200 with 1 Axes>"
            ]
          },
          "metadata": {
            "tags": [],
            "needs_background": "light"
          }
        }
      ]
    },
    {
      "cell_type": "code",
      "metadata": {
        "id": "eLTHdVy86sC4",
        "colab": {
          "base_uri": "https://localhost:8080/",
          "height": 1000
        },
        "outputId": "fcccc4c8-feab-46e1-cd88-9a3a7ead3e1f"
      },
      "source": [
        "plt.figure(dpi=300)\n",
        "plt.scatter(prop_group.index, prop_group['FULLVAL'], color=['gray'], edgecolor=['black'])\n",
        "plt.xlabel('BOROUGH', color = 'black')\n",
        "plt.ylabel('PROPERTY VALUE(MEAN)', color='black')\n"
      ],
      "execution_count": null,
      "outputs": [
        {
          "output_type": "execute_result",
          "data": {
            "text/plain": [
              "Text(0, 0.5, 'PROPERTY VALUE(MEAN)')"
            ]
          },
          "metadata": {
            "tags": []
          },
          "execution_count": 47
        },
        {
          "output_type": "display_data",
          "data": {
            "image/png": "[encoded data removed]",
            "text/plain": [
              "<Figure size 1800x1200 with 1 Axes>"
            ]
          },
          "metadata": {
            "tags": [],
            "needs_background": "light"
          }
        }
      ]
    },
    {
      "cell_type": "code",
      "metadata": {
        "colab": {
          "base_uri": "https://localhost:8080/",
          "height": 435
        },
        "id": "XLe_RCGrt7a0",
        "outputId": "d4d5f1e9-5b1c-4184-d061-7355ed4e2e80"
      },
      "source": [
        "import time\n",
        "import numpy as\n",
        "\n",
        "start = time.time()\n",
        "np.mean(propVal['Borough'])\n",
        "end = time.time()\n",
        "\n",
        "print('numpy: {}'.format(start-end))\n",
        "\n",
        "start = time.time()\n",
        "propVal['Borough'].mean()\n",
        "end = time.time()\n",
        "\n",
        "print('pandas.mean: {}'.format(start-end))"
      ],
      "execution_count": null,
      "outputs": [
        {
          "output_type": "error",
          "ename": "TypeError",
          "evalue": "ignored",
          "traceback": [
            "\u001b[0;31m---------------------------------------------------------------------------\u001b[0m",
            "\u001b[0;31mTypeError\u001b[0m                                 Traceback (most recent call last)",
            "\u001b[0;32m<ipython-input-9-e974e2dc5c34>\u001b[0m in \u001b[0;36m<module>\u001b[0;34m()\u001b[0m\n\u001b[1;32m      3\u001b[0m \u001b[0;34m\u001b[0m\u001b[0m\n\u001b[1;32m      4\u001b[0m \u001b[0mstart\u001b[0m \u001b[0;34m=\u001b[0m \u001b[0mtime\u001b[0m\u001b[0;34m.\u001b[0m\u001b[0mtime\u001b[0m\u001b[0;34m(\u001b[0m\u001b[0;34m)\u001b[0m\u001b[0;34m\u001b[0m\u001b[0;34m\u001b[0m\u001b[0m\n\u001b[0;32m----> 5\u001b[0;31m \u001b[0mnp\u001b[0m\u001b[0;34m.\u001b[0m\u001b[0mmean\u001b[0m\u001b[0;34m(\u001b[0m\u001b[0mpropVal\u001b[0m\u001b[0;34m[\u001b[0m\u001b[0;34m'Borough'\u001b[0m\u001b[0;34m]\u001b[0m\u001b[0;34m)\u001b[0m\u001b[0;34m\u001b[0m\u001b[0;34m\u001b[0m\u001b[0m\n\u001b[0m\u001b[1;32m      6\u001b[0m \u001b[0mend\u001b[0m \u001b[0;34m=\u001b[0m \u001b[0mtime\u001b[0m\u001b[0;34m.\u001b[0m\u001b[0mtime\u001b[0m\u001b[0;34m(\u001b[0m\u001b[0;34m)\u001b[0m\u001b[0;34m\u001b[0m\u001b[0;34m\u001b[0m\u001b[0m\n\u001b[1;32m      7\u001b[0m \u001b[0;34m\u001b[0m\u001b[0m\n",
            "\u001b[0;32m<__array_function__ internals>\u001b[0m in \u001b[0;36mmean\u001b[0;34m(*args, **kwargs)\u001b[0m\n",
            "\u001b[0;32m/usr/local/lib/python3.7/dist-packages/numpy/core/fromnumeric.py\u001b[0m in \u001b[0;36mmean\u001b[0;34m(a, axis, dtype, out, keepdims)\u001b[0m\n\u001b[1;32m   3368\u001b[0m             \u001b[0;32mpass\u001b[0m\u001b[0;34m\u001b[0m\u001b[0;34m\u001b[0m\u001b[0m\n\u001b[1;32m   3369\u001b[0m         \u001b[0;32melse\u001b[0m\u001b[0;34m:\u001b[0m\u001b[0;34m\u001b[0m\u001b[0;34m\u001b[0m\u001b[0m\n\u001b[0;32m-> 3370\u001b[0;31m             \u001b[0;32mreturn\u001b[0m \u001b[0mmean\u001b[0m\u001b[0;34m(\u001b[0m\u001b[0maxis\u001b[0m\u001b[0;34m=\u001b[0m\u001b[0maxis\u001b[0m\u001b[0;34m,\u001b[0m \u001b[0mdtype\u001b[0m\u001b[0;34m=\u001b[0m\u001b[0mdtype\u001b[0m\u001b[0;34m,\u001b[0m \u001b[0mout\u001b[0m\u001b[0;34m=\u001b[0m\u001b[0mout\u001b[0m\u001b[0;34m,\u001b[0m \u001b[0;34m**\u001b[0m\u001b[0mkwargs\u001b[0m\u001b[0;34m)\u001b[0m\u001b[0;34m\u001b[0m\u001b[0;34m\u001b[0m\u001b[0m\n\u001b[0m\u001b[1;32m   3371\u001b[0m \u001b[0;34m\u001b[0m\u001b[0m\n\u001b[1;32m   3372\u001b[0m     return _methods._mean(a, axis=axis, dtype=dtype,\n",
            "\u001b[0;32m/usr/local/lib/python3.7/dist-packages/pandas/core/generic.py\u001b[0m in \u001b[0;36mstat_func\u001b[0;34m(self, axis, skipna, level, numeric_only, **kwargs)\u001b[0m\n\u001b[1;32m  11473\u001b[0m             \u001b[0;32mreturn\u001b[0m \u001b[0mself\u001b[0m\u001b[0;34m.\u001b[0m\u001b[0m_agg_by_level\u001b[0m\u001b[0;34m(\u001b[0m\u001b[0mname\u001b[0m\u001b[0;34m,\u001b[0m \u001b[0maxis\u001b[0m\u001b[0;34m=\u001b[0m\u001b[0maxis\u001b[0m\u001b[0;34m,\u001b[0m \u001b[0mlevel\u001b[0m\u001b[0;34m=\u001b[0m\u001b[0mlevel\u001b[0m\u001b[0;34m,\u001b[0m \u001b[0mskipna\u001b[0m\u001b[0;34m=\u001b[0m\u001b[0mskipna\u001b[0m\u001b[0;34m)\u001b[0m\u001b[0;34m\u001b[0m\u001b[0;34m\u001b[0m\u001b[0m\n\u001b[1;32m  11474\u001b[0m         return self._reduce(\n\u001b[0;32m> 11475\u001b[0;31m             \u001b[0mfunc\u001b[0m\u001b[0;34m,\u001b[0m \u001b[0mname\u001b[0m\u001b[0;34m=\u001b[0m\u001b[0mname\u001b[0m\u001b[0;34m,\u001b[0m \u001b[0maxis\u001b[0m\u001b[0;34m=\u001b[0m\u001b[0maxis\u001b[0m\u001b[0;34m,\u001b[0m \u001b[0mskipna\u001b[0m\u001b[0;34m=\u001b[0m\u001b[0mskipna\u001b[0m\u001b[0;34m,\u001b[0m \u001b[0mnumeric_only\u001b[0m\u001b[0;34m=\u001b[0m\u001b[0mnumeric_only\u001b[0m\u001b[0;34m\u001b[0m\u001b[0;34m\u001b[0m\u001b[0m\n\u001b[0m\u001b[1;32m  11476\u001b[0m         )\n\u001b[1;32m  11477\u001b[0m \u001b[0;34m\u001b[0m\u001b[0m\n",
            "\u001b[0;32m/usr/local/lib/python3.7/dist-packages/pandas/core/series.py\u001b[0m in \u001b[0;36m_reduce\u001b[0;34m(self, op, name, axis, skipna, numeric_only, filter_type, **kwds)\u001b[0m\n\u001b[1;32m   4247\u001b[0m                 )\n\u001b[1;32m   4248\u001b[0m             \u001b[0;32mwith\u001b[0m \u001b[0mnp\u001b[0m\u001b[0;34m.\u001b[0m\u001b[0merrstate\u001b[0m\u001b[0;34m(\u001b[0m\u001b[0mall\u001b[0m\u001b[0;34m=\u001b[0m\u001b[0;34m\"ignore\"\u001b[0m\u001b[0;34m)\u001b[0m\u001b[0;34m:\u001b[0m\u001b[0;34m\u001b[0m\u001b[0;34m\u001b[0m\u001b[0m\n\u001b[0;32m-> 4249\u001b[0;31m                 \u001b[0;32mreturn\u001b[0m \u001b[0mop\u001b[0m\u001b[0;34m(\u001b[0m\u001b[0mdelegate\u001b[0m\u001b[0;34m,\u001b[0m \u001b[0mskipna\u001b[0m\u001b[0;34m=\u001b[0m\u001b[0mskipna\u001b[0m\u001b[0;34m,\u001b[0m \u001b[0;34m**\u001b[0m\u001b[0mkwds\u001b[0m\u001b[0;34m)\u001b[0m\u001b[0;34m\u001b[0m\u001b[0;34m\u001b[0m\u001b[0m\n\u001b[0m\u001b[1;32m   4250\u001b[0m \u001b[0;34m\u001b[0m\u001b[0m\n\u001b[1;32m   4251\u001b[0m     \u001b[0;32mdef\u001b[0m \u001b[0m_reindex_indexer\u001b[0m\u001b[0;34m(\u001b[0m\u001b[0mself\u001b[0m\u001b[0;34m,\u001b[0m \u001b[0mnew_index\u001b[0m\u001b[0;34m,\u001b[0m \u001b[0mindexer\u001b[0m\u001b[0;34m,\u001b[0m \u001b[0mcopy\u001b[0m\u001b[0;34m)\u001b[0m\u001b[0;34m:\u001b[0m\u001b[0;34m\u001b[0m\u001b[0;34m\u001b[0m\u001b[0m\n",
            "\u001b[0;32m/usr/local/lib/python3.7/dist-packages/pandas/core/nanops.py\u001b[0m in \u001b[0;36m_f\u001b[0;34m(*args, **kwargs)\u001b[0m\n\u001b[1;32m     69\u001b[0m             \u001b[0;32mtry\u001b[0m\u001b[0;34m:\u001b[0m\u001b[0;34m\u001b[0m\u001b[0;34m\u001b[0m\u001b[0m\n\u001b[1;32m     70\u001b[0m                 \u001b[0;32mwith\u001b[0m \u001b[0mnp\u001b[0m\u001b[0;34m.\u001b[0m\u001b[0merrstate\u001b[0m\u001b[0;34m(\u001b[0m\u001b[0minvalid\u001b[0m\u001b[0;34m=\u001b[0m\u001b[0;34m\"ignore\"\u001b[0m\u001b[0;34m)\u001b[0m\u001b[0;34m:\u001b[0m\u001b[0;34m\u001b[0m\u001b[0;34m\u001b[0m\u001b[0m\n\u001b[0;32m---> 71\u001b[0;31m                     \u001b[0;32mreturn\u001b[0m \u001b[0mf\u001b[0m\u001b[0;34m(\u001b[0m\u001b[0;34m*\u001b[0m\u001b[0margs\u001b[0m\u001b[0;34m,\u001b[0m \u001b[0;34m**\u001b[0m\u001b[0mkwargs\u001b[0m\u001b[0;34m)\u001b[0m\u001b[0;34m\u001b[0m\u001b[0;34m\u001b[0m\u001b[0m\n\u001b[0m\u001b[1;32m     72\u001b[0m             \u001b[0;32mexcept\u001b[0m \u001b[0mValueError\u001b[0m \u001b[0;32mas\u001b[0m \u001b[0me\u001b[0m\u001b[0;34m:\u001b[0m\u001b[0;34m\u001b[0m\u001b[0;34m\u001b[0m\u001b[0m\n\u001b[1;32m     73\u001b[0m                 \u001b[0;31m# we want to transform an object array\u001b[0m\u001b[0;34m\u001b[0m\u001b[0;34m\u001b[0m\u001b[0;34m\u001b[0m\u001b[0m\n",
            "\u001b[0;32m/usr/local/lib/python3.7/dist-packages/pandas/core/nanops.py\u001b[0m in \u001b[0;36mf\u001b[0;34m(values, axis, skipna, **kwds)\u001b[0m\n\u001b[1;32m    127\u001b[0m                     \u001b[0mresult\u001b[0m \u001b[0;34m=\u001b[0m \u001b[0malt\u001b[0m\u001b[0;34m(\u001b[0m\u001b[0mvalues\u001b[0m\u001b[0;34m,\u001b[0m \u001b[0maxis\u001b[0m\u001b[0;34m=\u001b[0m\u001b[0maxis\u001b[0m\u001b[0;34m,\u001b[0m \u001b[0mskipna\u001b[0m\u001b[0;34m=\u001b[0m\u001b[0mskipna\u001b[0m\u001b[0;34m,\u001b[0m \u001b[0;34m**\u001b[0m\u001b[0mkwds\u001b[0m\u001b[0;34m)\u001b[0m\u001b[0;34m\u001b[0m\u001b[0;34m\u001b[0m\u001b[0m\n\u001b[1;32m    128\u001b[0m             \u001b[0;32melse\u001b[0m\u001b[0;34m:\u001b[0m\u001b[0;34m\u001b[0m\u001b[0;34m\u001b[0m\u001b[0m\n\u001b[0;32m--> 129\u001b[0;31m                 \u001b[0mresult\u001b[0m \u001b[0;34m=\u001b[0m \u001b[0malt\u001b[0m\u001b[0;34m(\u001b[0m\u001b[0mvalues\u001b[0m\u001b[0;34m,\u001b[0m \u001b[0maxis\u001b[0m\u001b[0;34m=\u001b[0m\u001b[0maxis\u001b[0m\u001b[0;34m,\u001b[0m \u001b[0mskipna\u001b[0m\u001b[0;34m=\u001b[0m\u001b[0mskipna\u001b[0m\u001b[0;34m,\u001b[0m \u001b[0;34m**\u001b[0m\u001b[0mkwds\u001b[0m\u001b[0;34m)\u001b[0m\u001b[0;34m\u001b[0m\u001b[0;34m\u001b[0m\u001b[0m\n\u001b[0m\u001b[1;32m    130\u001b[0m \u001b[0;34m\u001b[0m\u001b[0m\n\u001b[1;32m    131\u001b[0m             \u001b[0;32mreturn\u001b[0m \u001b[0mresult\u001b[0m\u001b[0;34m\u001b[0m\u001b[0;34m\u001b[0m\u001b[0m\n",
            "\u001b[0;32m/usr/local/lib/python3.7/dist-packages/pandas/core/nanops.py\u001b[0m in \u001b[0;36mnanmean\u001b[0;34m(values, axis, skipna, mask)\u001b[0m\n\u001b[1;32m    561\u001b[0m         \u001b[0mdtype_count\u001b[0m \u001b[0;34m=\u001b[0m \u001b[0mdtype\u001b[0m\u001b[0;34m\u001b[0m\u001b[0;34m\u001b[0m\u001b[0m\n\u001b[1;32m    562\u001b[0m     \u001b[0mcount\u001b[0m \u001b[0;34m=\u001b[0m \u001b[0m_get_counts\u001b[0m\u001b[0;34m(\u001b[0m\u001b[0mvalues\u001b[0m\u001b[0;34m.\u001b[0m\u001b[0mshape\u001b[0m\u001b[0;34m,\u001b[0m \u001b[0mmask\u001b[0m\u001b[0;34m,\u001b[0m \u001b[0maxis\u001b[0m\u001b[0;34m,\u001b[0m \u001b[0mdtype\u001b[0m\u001b[0;34m=\u001b[0m\u001b[0mdtype_count\u001b[0m\u001b[0;34m)\u001b[0m\u001b[0;34m\u001b[0m\u001b[0;34m\u001b[0m\u001b[0m\n\u001b[0;32m--> 563\u001b[0;31m     \u001b[0mthe_sum\u001b[0m \u001b[0;34m=\u001b[0m \u001b[0m_ensure_numeric\u001b[0m\u001b[0;34m(\u001b[0m\u001b[0mvalues\u001b[0m\u001b[0;34m.\u001b[0m\u001b[0msum\u001b[0m\u001b[0;34m(\u001b[0m\u001b[0maxis\u001b[0m\u001b[0;34m,\u001b[0m \u001b[0mdtype\u001b[0m\u001b[0;34m=\u001b[0m\u001b[0mdtype_sum\u001b[0m\u001b[0;34m)\u001b[0m\u001b[0;34m)\u001b[0m\u001b[0;34m\u001b[0m\u001b[0;34m\u001b[0m\u001b[0m\n\u001b[0m\u001b[1;32m    564\u001b[0m \u001b[0;34m\u001b[0m\u001b[0m\n\u001b[1;32m    565\u001b[0m     \u001b[0;32mif\u001b[0m \u001b[0maxis\u001b[0m \u001b[0;32mis\u001b[0m \u001b[0;32mnot\u001b[0m \u001b[0;32mNone\u001b[0m \u001b[0;32mand\u001b[0m \u001b[0mgetattr\u001b[0m\u001b[0;34m(\u001b[0m\u001b[0mthe_sum\u001b[0m\u001b[0;34m,\u001b[0m \u001b[0;34m\"ndim\"\u001b[0m\u001b[0;34m,\u001b[0m \u001b[0;32mFalse\u001b[0m\u001b[0;34m)\u001b[0m\u001b[0;34m:\u001b[0m\u001b[0;34m\u001b[0m\u001b[0;34m\u001b[0m\u001b[0m\n",
            "\u001b[0;32m/usr/local/lib/python3.7/dist-packages/numpy/core/_methods.py\u001b[0m in \u001b[0;36m_sum\u001b[0;34m(a, axis, dtype, out, keepdims, initial, where)\u001b[0m\n\u001b[1;32m     45\u001b[0m def _sum(a, axis=None, dtype=None, out=None, keepdims=False,\n\u001b[1;32m     46\u001b[0m          initial=_NoValue, where=True):\n\u001b[0;32m---> 47\u001b[0;31m     \u001b[0;32mreturn\u001b[0m \u001b[0mumr_sum\u001b[0m\u001b[0;34m(\u001b[0m\u001b[0ma\u001b[0m\u001b[0;34m,\u001b[0m \u001b[0maxis\u001b[0m\u001b[0;34m,\u001b[0m \u001b[0mdtype\u001b[0m\u001b[0;34m,\u001b[0m \u001b[0mout\u001b[0m\u001b[0;34m,\u001b[0m \u001b[0mkeepdims\u001b[0m\u001b[0;34m,\u001b[0m \u001b[0minitial\u001b[0m\u001b[0;34m,\u001b[0m \u001b[0mwhere\u001b[0m\u001b[0;34m)\u001b[0m\u001b[0;34m\u001b[0m\u001b[0;34m\u001b[0m\u001b[0m\n\u001b[0m\u001b[1;32m     48\u001b[0m \u001b[0;34m\u001b[0m\u001b[0m\n\u001b[1;32m     49\u001b[0m def _prod(a, axis=None, dtype=None, out=None, keepdims=False,\n",
            "\u001b[0;31mTypeError\u001b[0m: unsupported operand type(s) for +: 'int' and 'str'"
          ]
        }
      ]
    },
    {
      "cell_type": "code",
      "metadata": {
        "id": "S0cvgmMWwMag"
      },
      "source": [
        ""
      ],
      "execution_count": null,
      "outputs": []
    }
  ]
}